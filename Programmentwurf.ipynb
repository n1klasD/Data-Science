{
 "cells":[
  {
   "cell_type":"markdown",
   "source":[
    "# Programmentwurf DataScience\n",
    "\n",
    "## 1. Business Understanding\n",
    "**Aufgabenstellung**: _Formulieren Sie ein Ziel oder mehrere Ziele nach dem CRISP-DM Prozess, die für __einen Immobilienverein von Privatpersonen__ sinnvoll sind. Diese Personen kaufen und verkaufen Häuser zur Eigennutzung oder für die Familie, manchmal mehrfach. Beginnen Sie mit der Idee „Wir brauchen mehr Verständnis und eine Vorhersage des Verkaufspreises (`Z_Verkaufspreis`)!“, welche auf jeden Fall zu bearbeiten ist. Geben Sie dies in Ihrem Jupyter-Notebook als Markup an (max. ½ Seite Text)._\n",
    "\n",
    "### Ziele des Business Understandings\n",
    "- Was sind die Ziele auf Geschäftsebene?\n",
    "- Welche Anforderungen an das Ergebnis gibt es?\n",
    "- Welche offenen Fragen sollen beantwortet werden?\n",
    "- Wie könnten beispielhafte Antworten aussehen?\n",
    "\n",
    "Das grundsätzliche Ziel ist die Evaluation der Rechtfertigkeit eines Hauspreises. Es soll vermieden werden, Häuser zu teuer anzukaufen, beziehungsweise zu billig zu verkaufen.\n",
    "Das Ergebnis der Datenanalyse soll eine verlässlige Vorhersage eines Hauspreises aufgrund gegebener Attribute liefern. Dadurch ergeben sich die Fragen:\n",
    "1. Durch welche Attribute wird der Preis eines Hauses festgemacht?\n",
    "2. Wie stark beeinflusst ein Attribut den Preis?\n",
    "3. Gibt es eine Möglichkeit den Wert eines Hauses rentabel und vergleichsweise einfach zu steigern? Sprich welche Investitionen beeinflussen den Hauspreis positiv und sind gleichzeitig vergleichsweise billig. Diese Möglichkeiten sollen auch bei einem Kaufvorschlag in Betracht gezogen werden.\n",
    "\n",
    "Außerdem soll das Verfahren eine einfache Möglichkeit liefern, einen Hauspreis aufgrund von gegebenen Informationen schätzen zu können. Diese Schätzung soll auch ohne Kenntnisse in DataScience möglich sein, beispielsweise durch eine Formel. Diese Formel wird durch die Vorhersage des Programms bestimmt und sollte möglichst universell einsetzbar sein. Ein Beispiel für eine Formel wäre `Grundfläche * 1000 + AnzahlZimmer * 10 000 + ...`. Die Formel besteht aus den wichtigsten Attributen (Fragestellungen 1. und 2. von oben) und einem statischen Faktor.\n",
    "\n",
    "Zusätzlich soll der Datenbestand als Grundlage für eine Anwendung dienen, in welche die Eigenschaften und der Preis des Hauses eingetragen werden können. Diese Anwendung führt eine Kategorisierung in \"Direkt kaufen\", \"Abwarten\", \"Anschauen\" und \"Schlechtes Angebot\" durch. Dadurch soll der Aufwand für die Privatpersonen reduziert werden.\n",
    "\n",
    "Neben der Vorhersage und Abhängigkeit des Preises von Attributen sollen auch Zusammenhänge der Attribute untereinander gefunden werden."
   ],
   "attachments":{
    
   },
   "metadata":{
    "datalore":{
     "type":"MD",
     "hide_input_from_viewers":false,
     "hide_output_from_viewers":false,
     "node_id":"QIoXuyPr3QlGA70BWnR8T0"
    }
   }
  },
  {
   "cell_type":"markdown",
   "source":[
    "## 2. Data Exploration und Analyse\n",
    "**Aufgabenstellung**: _Laden und untersuchen Sie den Datensatz in data_for_training.csv nach den Regeln wie in der Vorlesung gelehrt. Ändern Sie hierbei nicht die einzulesende csv-Datei! Schreiben Sie die wichtigsten Erkenntnisse für die in Aufgabe 1 definierten Ziele als Summary auf (max. ½ Seite Text). Passen Sie ggfs. Ihre Ziele im Business Understanding an. Kommentieren Sie Rückfragen für Fachexperten sowie mögliche zusätzliche Datenquellen und Auswertungen, die Sie damit ausführen würden._"
   ],
   "attachments":{
    
   },
   "metadata":{
    "datalore":{
     "type":"MD",
     "hide_input_from_viewers":false,
     "hide_output_from_viewers":false,
     "node_id":"T2FeMq1qvt5j1KOV1W2lrR"
    }
   }
  },
  {
   "cell_type":"markdown",
   "source":[
    "### Laden der Test und Trainingsdatensätze"
   ],
   "attachments":{
    
   },
   "metadata":{
    "datalore":{
     "type":"MD",
     "hide_input_from_viewers":false,
     "hide_output_from_viewers":false,
     "node_id":"DUwoC2Fwj5UU3JIxnaA1no"
    }
   }
  },
  {
   "cell_type":"code",
   "source":[
    "import pandas as pd\n",
    "import matplotlib.pyplot as plt\n",
    "import numpy as np\n",
    "import seaborn as sns"
   ],
   "execution_count":1,
   "outputs":[
    
   ],
   "metadata":{
    "datalore":{
     "type":"CODE",
     "hide_input_from_viewers":false,
     "hide_output_from_viewers":false,
     "node_id":"P7jl0ax94WDePs6RDI17kK"
    }
   }
  },
  {
   "cell_type":"code",
   "source":[
    "test_data = pd.read_csv('data_for_testing_test.csv', delimiter=\";\")\n",
    "train_data = pd.read_csv('data_for_training.csv',delimiter=\";\").drop(columns=\"A_Index\")"
   ],
   "execution_count":2,
   "outputs":[
    {
     "ename":"FileNotFoundError",
     "evalue":"FileNotFoundError: [Errno 2] No such file or directory: 'data_for_testing_test.csv'",
     "traceback":[
      "\u001b[0;31m---------------------------------------------------------------------------",
      "Traceback (most recent call last)",
      "    at line 1 in <module>",
      "    at line 311 in wrapper(*args, **kwargs)",
      "    at line 586 in read_csv(filepath_or_buffer, sep, delimiter, header, names, index_col, usecols, squeeze, prefix, mangle_dupe_cols, dtype, engine, converters, true_values, false_values, skipinitialspace, skiprows, skipfooter, nrows, na_values, keep_default_na, na_filter, verbose, skip_blank_lines, parse_dates, infer_datetime_format, keep_date_col, date_parser, dayfirst, cache_dates, iterator, chunksize, compression, thousands, decimal, lineterminator, quotechar, quoting, doublequote, escapechar, comment, encoding, encoding_errors, dialect, error_bad_lines, warn_bad_lines, on_bad_lines, delim_whitespace, low_memory, memory_map, float_precision, storage_options)",
      "    at line 482 in _read(filepath_or_buffer, kwds)",
      "    at line 811 in __init__(self, f, engine, **kwds)",
      "    at line 1040 in _make_engine(self, engine)",
      "    at line 51 in __init__(self, src, **kwds)",
      "    at line 222 in _open_handles(self, src, kwds)",
      "    at line 702 in get_handle(path_or_buf, mode, encoding, compression, memory_map, is_text, errors, storage_options)",
      "FileNotFoundError: [Errno 2] No such file or directory: 'data_for_testing_test.csv'"
     ],
     "output_type":"error"
    }
   ],
   "metadata":{
    "datalore":{
     "type":"CODE",
     "hide_input_from_viewers":false,
     "hide_output_from_viewers":false,
     "node_id":"2mGTsdaS2ArXUowUQDdM2N"
    }
   }
  },
  {
   "cell_type":"markdown",
   "source":[
    "**! Attribute vom Typ \"object\" sind in Stringrepresentation und müssen codiert\/quantifiziert\/formatiert werden !**"
   ],
   "attachments":{
    
   },
   "metadata":{
    "datalore":{
     "type":"MD",
     "hide_input_from_viewers":false,
     "hide_output_from_viewers":false,
     "node_id":"9IBvZuFtTMTHpx5nKts6N3"
    }
   }
  },
  {
   "cell_type":"code",
   "source":[
    "object_columns = train_data.dtypes[train_data.dtypes == 'object'].index\n",
    "object_columns"
   ],
   "execution_count":0,
   "outputs":[
    
   ],
   "metadata":{
    "datalore":{
     "type":"CODE",
     "hide_input_from_viewers":false,
     "hide_output_from_viewers":false,
     "node_id":"Xz6Edy5U1pYTZ980RzS08H"
    }
   }
  },
  {
   "cell_type":"code",
   "source":[
    "train_data"
   ],
   "execution_count":0,
   "outputs":[
    
   ],
   "metadata":{
    "datalore":{
     "type":"CODE",
     "hide_input_from_viewers":false,
     "hide_output_from_viewers":false,
     "node_id":"U9LjM7WzVXo2tQFTOa1fUF"
    }
   }
  },
  {
   "cell_type":"code",
   "source":[
    "for column in object_columns:\n",
    "    print(column,\":\", train_data.loc[:,column].unique(), \"\\n\")"
   ],
   "execution_count":0,
   "outputs":[
    
   ],
   "metadata":{
    "datalore":{
     "type":"CODE",
     "hide_input_from_viewers":false,
     "hide_output_from_viewers":false,
     "node_id":"HRTj7D6rbXr8QSEsoGU2D2"
    }
   }
  },
  {
   "cell_type":"markdown",
   "source":[
    "* **Ausbaustufe**: Transformation zu Float oder Label Encoding --> Reihenfolge beibehalten\n",
    "* **Bebauungsdichte**: Label Encoding\n",
    "* **Besonderheiten**: Sehr dünn besetzt --> One Hot Encoding ? 0\/1 ?\n",
    "* **Dachtyp**: Label\n",
    "* **Fassadenqual**: Label Encoding,  Einteilung : Annahme: sehr gut gleich weit von sehr schlecht, durschnitt bei 0, z.B. [Schlecht, Durch, Gut, Sehr gut] = [-2, 0, 1, 2]\n",
    "* **Fassadenzustand**: Wie oben, aber direkte Abbildung ['Sehr Schlecht' 'Schlecht' 'Durchschnitt' 'Gut' 'Sehr gut' ] = [-2, -1, 0, 1, 2]\n",
    "* **Kellerhoehe**: Label Encoding: ['Sehr Schlecht' 'Schlecht' 'Durchschnitt' 'Gut' 'Sehr gut' ] = [-2, -1, 0, 1, 2] ---> NAN ?\n",
    "* **Lage**: Label Encoding ?"
   ],
   "attachments":{
    
   },
   "metadata":{
    "datalore":{
     "type":"MD",
     "hide_input_from_viewers":false,
     "hide_output_from_viewers":false,
     "node_id":"kXy8uH9owvdsDMHsKMYGGk"
    }
   }
  },
  {
   "cell_type":"code",
   "source":[
    "train_data.corr()"
   ],
   "execution_count":0,
   "outputs":[
    
   ],
   "metadata":{
    "datalore":{
     "type":"CODE",
     "hide_input_from_viewers":false,
     "hide_output_from_viewers":false,
     "node_id":"6Z4rUnK10TEWSryA46whTq"
    }
   }
  },
  {
   "cell_type":"markdown",
   "source":[
    "Verteilung der Hauspreise"
   ],
   "attachments":{
    
   },
   "metadata":{
    "datalore":{
     "type":"MD",
     "hide_input_from_viewers":false,
     "hide_output_from_viewers":false,
     "node_id":"wSThmjQQa5bzJ9AVmMMImP"
    }
   }
  },
  {
   "cell_type":"markdown",
   "source":[
    
   ],
   "attachments":{
    
   },
   "metadata":{
    "datalore":{
     "type":"MD",
     "hide_input_from_viewers":false,
     "hide_output_from_viewers":false,
     "node_id":"KQasX2cnerZXFcGDwWjWVq"
    }
   }
  },
  {
   "cell_type":"code",
   "source":[
    "_ = sns.pairplot(train_data.loc[:,[\"Baujahr\", \"EG_qm\", \"Grundstueck_qm\", \"Keller_qm\", \"Umgebaut\", \"Wohnflaeche_qm\"]])"
   ],
   "execution_count":0,
   "outputs":[
    
   ],
   "metadata":{
    "datalore":{
     "type":"CODE",
     "hide_input_from_viewers":false,
     "hide_output_from_viewers":false,
     "node_id":"w09tpGDDBUSFIam5eUZVuY"
    }
   }
  },
  {
   "cell_type":"markdown",
   "source":[
    "Diese Scatterplotmatrix verdeutlicht vor allem die Zusammenhänge von Attributen zueinander.\n",
    "\n",
    "Die Histogramme auf der Diagonale zeigen:\n",
    "- Ein Großteil der Häuser wurde in den letzten zwei Jahrzehnten erbaut.\n",
    "- Die Flächen (_EG_qm_, _Grundstueck_qm_, _Keller_qm_ und _Wohnflaeche_qm_) sind normalverteilt, aber leicht verschoben.\n",
    "- 1960 wurden überraschend viele Häuser umgebaut.\n",
    "\n",
    "Die Deckelung (Dachform) zwischen _Umgebaut_ und _Baujahr_ stellt all die Häuser dar, die noch nicht umgebaut wurden. Auch lässt sich erkennen, dass ein Großteil der Häuser nach der Jahrtausendwende umgebaut wurden.\n",
    "\n",
    "In _Keller_qm_ und _EG_qm_ lässt sich ein aufsteigender Trend über die Jahre beobachten (_Baujahr_). Dieser Trend ist bei _Wohnflaeche_qm_ allerdings nicht sichtbar.\n",
    "\n",
    "Die Winkelhalbierende zwischen _EG_qm_ und _Wohnflaeche_qm_ repräsentiert diejenigen Häuser, die nur aus einem Erdgeschoss bestehen.\n",
    "\n",
    "Jedes Haus mit mehr als 200 m² Wohnfläche besitzt einen Keller.\n",
    "\n",
    "Die beiden Ausreißer in _Grundstueck_qm_ liegen in fast allen anderen Attributen ebenfalls eng beeinander mit der Ausnahme, dass eines der beiden Häuser renoviert wurde. Gleiches gilt für _Keller_qm_ und _EG_qm_. Auch hier sind die Ausreißer oft beeinander."
   ],
   "attachments":{
    
   },
   "metadata":{
    "datalore":{
     "type":"MD",
     "hide_input_from_viewers":false,
     "hide_output_from_viewers":false,
     "node_id":"ATGnaWIfKqpSI9jM5jgTG0"
    }
   }
  },
  {
   "cell_type":"markdown",
   "source":[
    "### Histogramm über den Verkaufspreis"
   ],
   "attachments":{
    
   },
   "metadata":{
    "datalore":{
     "type":"MD",
     "hide_input_from_viewers":false,
     "hide_output_from_viewers":false,
     "node_id":"aVFobqM7wkZ3IkHovFZBD4"
    }
   }
  },
  {
   "cell_type":"code",
   "source":[
    "_, axes = plt.subplots(figsize=(15, 10))\n",
    "axes.set_title(\"Histogramm über den Verkaufspreis\")\n",
    "axes.set_xlabel(\"Verkaufspreis in Euro\")\n",
    "axes.set_ylabel(\"Anzahl der Häuser\")\n",
    "_ = train_data[\"Z_Verkaufspreis\"].hist(bins=100, ax=axes)"
   ],
   "execution_count":0,
   "outputs":[
    
   ],
   "metadata":{
    "datalore":{
     "type":"CODE",
     "hide_input_from_viewers":false,
     "hide_output_from_viewers":false,
     "node_id":"BIz97xMMa1HRPLLoT7vJjD"
    }
   }
  },
  {
   "cell_type":"markdown",
   "source":[
    "Das Histogramm über den Verkaufspreis zeigt, dass ein Großteil der Häuser in der Preisspanne zwischen 100 000€ und 300 000€ verkauft wird."
   ],
   "attachments":{
    
   },
   "metadata":{
    "datalore":{
     "type":"MD",
     "hide_input_from_viewers":false,
     "hide_output_from_viewers":false,
     "node_id":"Rkb8v7u2AbddEagMUXXVst"
    }
   }
  },
  {
   "cell_type":"markdown",
   "source":[
    "### Korrelationsmatrix über alle Dimensionen des Datensatzes"
   ],
   "attachments":{
    
   },
   "metadata":{
    "datalore":{
     "type":"MD",
     "hide_input_from_viewers":false,
     "hide_output_from_viewers":false,
     "node_id":"WINPttPOojH1G9PojsjB9e"
    }
   }
  },
  {
   "cell_type":"code",
   "source":[
    "plt.figure(figsize=(16, 6))\n",
    "# define the mask to set the values in the upper triangle to True\n",
    "mask = np.triu(np.ones_like(train_data.corr(), dtype=bool))\n",
    "heatmap = sns.heatmap(train_data.corr(), mask=mask, vmin=-1, vmax=1, annot=True)\n",
    "heatmap.set_title('Triangle Correlation Heatmap', fontdict={'fontsize':18}, pad=16);"
   ],
   "execution_count":0,
   "outputs":[
    
   ],
   "metadata":{
    "datalore":{
     "type":"CODE",
     "hide_input_from_viewers":false,
     "hide_output_from_viewers":false,
     "node_id":"1nvhLOHyQ0F1O343PRKg5g"
    }
   }
  },
  {
   "cell_type":"markdown",
   "source":[
    "Die Korrelationsmatrix zeigt, dass der Verkaufspreis (_Z_Verkaufspreis_) von vielen Attributen abhängig ist.\n",
    "\n",
    "Neben der Wohnfläche (_Wohnfläche_qm_, bestehend aus _EQ_qm_ und _Keller_qm_) korreliert die Anzahl der Garagen überraschend hoch mit dem Verkaufspreis. Außerdem korrelieren die Anzahl der Bäder (_Baeder_), das _Baujahr_ (zusammen mit _Umgebaut_) und die Anzahl der Kamine (_Kamine_) positiv mit dem Verkaufspreis.\n",
    "Entgegen der Erwartungen spielt die Anzahl der Zimmer eine eher kleine Rolle in der Bestimmung des Verkaufspreises. Auch die Gesamtfläche des Grundstückes spielt eine eher zu vernachlässigende Rolle mit einer Korrelation von 0,26.\n",
    "\n",
    "Die größte Korrelation tritt zwischen _Keller_qm_ und _EG_qm_ auf, was sich durch den baulich bedingten Zusammenhang zwischen Keller und Erdgeschoss erklären lässt.\n",
    "\n",
    "Die Korrelation von Verkaufsjahr und Verkaufspreis kann durch die steigenden Immobilienpreise und die zusätzliche Inflation erklärt werden."
   ],
   "attachments":{
    
   },
   "metadata":{
    "datalore":{
     "type":"MD",
     "hide_input_from_viewers":false,
     "hide_output_from_viewers":false,
     "node_id":"Ukvp7luqvwFQhhY4daH7vS"
    }
   }
  },
  {
   "cell_type":"code",
   "source":[
    "train_data_without_objects = train_data.select_dtypes(exclude=['object'])\n",
    "prices = train_data_without_objects[\"Z_Verkaufspreis\"]"
   ],
   "execution_count":0,
   "outputs":[
    
   ],
   "metadata":{
    "datalore":{
     "type":"CODE",
     "hide_input_from_viewers":false,
     "hide_output_from_viewers":false,
     "node_id":"35l5IesNGwPUCQzAZDQ8fl"
    }
   }
  },
  {
   "cell_type":"markdown",
   "source":[
    "### Violinplot zur Analyse des fehlenden Zusammenhangs zwischen Verkaufspreis und der Anzahl an Zimmern"
   ],
   "attachments":{
    
   },
   "metadata":{
    "datalore":{
     "type":"MD",
     "hide_input_from_viewers":false,
     "hide_output_from_viewers":false,
     "node_id":"e1i4EG3xi6MVvK7SRnyMGI"
    }
   }
  },
  {
   "cell_type":"code",
   "source":[
    "selection = train_data_without_objects.loc[:,[\"Z_Verkaufspreis\", \"AnzahlZimmer\"]]\n",
    "\n",
    "plt.figure(figsize=(20, 10))\n",
    "axes = sns.violinplot(x=\"AnzahlZimmer\", y=\"Z_Verkaufspreis\", data=train_data, color=\"blue\")\n",
    "axes.set_title(\"Violinplot über den Verkaufspreis abhängig von der Anzahl an Zimmern\")\n",
    "axes.set_xlabel(\"Anzahl der Zimmer\")\n",
    "_ = axes.set_ylabel(\"Verkaufspreis in Euro\")"
   ],
   "execution_count":0,
   "outputs":[
    
   ],
   "metadata":{
    "datalore":{
     "type":"CODE",
     "hide_input_from_viewers":false,
     "hide_output_from_viewers":false,
     "node_id":"lCdZg28BsFEbEajOB0sIPQ"
    }
   }
  },
  {
   "cell_type":"markdown",
   "source":[
    "Wie bereits in der Korrelationsmatrix erkannt, ist der Zusammenhang zwischen Verkaufspreis und der Anzahl an Zimmern sehr gering.\n",
    "\n",
    "Normalerweise würde man hier eine stetige Steigerung des Verkaufspreises erwarten, je mehr Zimmer in dem Haus vorhanden sind. Dem ist aber nicht so. Häuser mit zwei Zimmern kosten im Durchschnitt ähnlich viel wie Häuser mit sechs Zimmer.\n",
    "Da nur ein Haus mit acht Zimmern vorhanden ist, lässt sich dieser Wert vernachlässigen."
   ],
   "attachments":{
    
   },
   "metadata":{
    "datalore":{
     "type":"MD",
     "hide_input_from_viewers":false,
     "hide_output_from_viewers":false,
     "node_id":"giacfA2vGxDauI4PIi3q42"
    }
   }
  },
  {
   "cell_type":"markdown",
   "source":[
    "### Scatterplots zur Darstellung des Zusammenhangs einzelner Attribute mit dem Verkaufspreis"
   ],
   "attachments":{
    
   },
   "metadata":{
    "datalore":{
     "type":"MD",
     "hide_input_from_viewers":false,
     "hide_output_from_viewers":false,
     "node_id":"oeMQXZGnsnjMaFMgBo44Qc"
    }
   }
  },
  {
   "cell_type":"code",
   "source":[
    "numeric_columns = [\"Baujahr\", \"EG_qm\", \"Grundstueck_qm\", \"Keller_qm\", \"Umgebaut\", \"Wohnflaeche_qm\"]\n",
    "numerical_data = train_data_without_objects.loc[:,numeric_columns]\n",
    "\n",
    "def show_scatter(columnName, drop=None):\n",
    "    plt.figure(figsize=(10,5))\n",
    "    if drop is None:\n",
    "        column_compare = train_data_without_objects[columnName]\n",
    "        plt.scatter(column_compare, prices)\n",
    "    else:\n",
    "        column_compare = train_data_without_objects[columnName].drop(drop)\n",
    "        plt.scatter(column_compare, prices.drop(drop))\n",
    "\n",
    "    plt.title(f\"Verkaufspreis vs. {columnName}\")\n",
    "    plt.xlabel(columnName)\n",
    "    plt.ylabel(\"Verkaufspreis in Euro\")\n",
    "    plt.show()"
   ],
   "execution_count":0,
   "outputs":[
    
   ],
   "metadata":{
    "datalore":{
     "type":"CODE",
     "hide_input_from_viewers":false,
     "hide_output_from_viewers":false,
     "node_id":"rMHgCefaSFS6x0mn6PevXz"
    }
   }
  },
  {
   "cell_type":"code",
   "source":[
    "show_scatter(\"Baujahr\")"
   ],
   "execution_count":0,
   "outputs":[
    
   ],
   "metadata":{
    "datalore":{
     "type":"CODE",
     "hide_input_from_viewers":false,
     "hide_output_from_viewers":false,
     "node_id":"PE5ghXgf0XuD6PkuusFM10"
    }
   }
  },
  {
   "cell_type":"markdown",
   "source":[
    "Hier lässt sich gut erkennen, dass neuere Häuser tendenziell einen höheren Verkaufspreis haben als ältere."
   ],
   "attachments":{
    
   },
   "metadata":{
    "datalore":{
     "type":"MD",
     "hide_input_from_viewers":false,
     "hide_output_from_viewers":false,
     "node_id":"dSKk1NoGqLmE3uSH1eZ349"
    }
   }
  },
  {
   "cell_type":"code",
   "source":[
    "show_scatter(\"Umgebaut\")"
   ],
   "execution_count":0,
   "outputs":[
    
   ],
   "metadata":{
    "datalore":{
     "type":"CODE",
     "hide_input_from_viewers":false,
     "hide_output_from_viewers":false,
     "node_id":"g8ykQddPECQCwL8zRLphDZ"
    }
   }
  },
  {
   "cell_type":"markdown",
   "source":[
    "Dieser Scatterplot ähnelt dem obigen über das Baujahr stark und verdeutlicht den Zusammenhang zwischen Verkaufspreis und dem Jahr noch deutlicher. Häuser, die im obigen Graphen herausstechen (z. B. 450 000 € bei Baujahr 1900) sind im _Umgebaut_-Plot nicht mehr vorhanden. Daraus lässt sich schließen, dass der Umbau (\/Renovierung) den Wert eines Hauses steigert. Außerdem wird die Aussage \"Neuere Häuser sind teurer\" auch für alte, aber renovierte, Häuser wahr."
   ],
   "attachments":{
    
   },
   "metadata":{
    "datalore":{
     "type":"MD",
     "hide_input_from_viewers":false,
     "hide_output_from_viewers":false,
     "node_id":"zkpo9CMPbWiiAMcaLYhavG"
    }
   }
  },
  {
   "cell_type":"code",
   "source":[
    "show_scatter(\"EG_qm\")"
   ],
   "execution_count":0,
   "outputs":[
    
   ],
   "metadata":{
    "datalore":{
     "type":"CODE",
     "hide_input_from_viewers":false,
     "hide_output_from_viewers":false,
     "node_id":"2MV1P0aNnSguzJE8qQs8ig"
    }
   }
  },
  {
   "cell_type":"markdown",
   "source":[
    "Die starke Korrelation zwischen _EG_qm_ und _Z_Verkaufspreis_ aus der obigen Korrelationmatrix wird durch diesen Scatterplot verdeutlicht. Entfernt man die Ausreißer bei EG_qm > 400, ergibt sich der folgende Plot:"
   ],
   "attachments":{
    
   },
   "metadata":{
    "datalore":{
     "type":"MD",
     "hide_input_from_viewers":false,
     "hide_output_from_viewers":false,
     "node_id":"Weg2nzE7bWiFp0UHA11vHS"
    }
   }
  },
  {
   "cell_type":"code",
   "source":[
    "show_scatter(\"EG_qm\", [737, 216])"
   ],
   "execution_count":0,
   "outputs":[
    
   ],
   "metadata":{
    "datalore":{
     "type":"CODE",
     "hide_input_from_viewers":false,
     "hide_output_from_viewers":false,
     "node_id":"HH0O8rYDV9qkatl8m0Bc66"
    }
   }
  },
  {
   "cell_type":"code",
   "source":[
    "show_scatter(\"Keller_qm\", [216, 737])"
   ],
   "execution_count":0,
   "outputs":[
    
   ],
   "metadata":{
    "datalore":{
     "type":"CODE",
     "hide_input_from_viewers":false,
     "hide_output_from_viewers":false,
     "node_id":"6R8lOq7zKDuSfaKb86yVtY"
    }
   }
  },
  {
   "cell_type":"markdown",
   "source":[
    "**Hier wurden zwei Ausreißer bereits entfernt. Bei den Ausreißern handelt es sich um die selben wie bei _EG_qm_**\n",
    "\n",
    "Dieser Plot ist nahezu deckungsgleich mit dem Plot über _EG_qm_. Da diese beiden Attribute eine Korrelation von 0,81 haben, ist das keine Überraschung. Allerdings stechen die Einträge bei 0 m² Kellerfläche ins Auge."
   ],
   "attachments":{
    
   },
   "metadata":{
    "datalore":{
     "type":"MD",
     "hide_input_from_viewers":false,
     "hide_output_from_viewers":false,
     "node_id":"awE0dC99CDnrNWlribf6vm"
    }
   }
  },
  {
   "cell_type":"code",
   "source":[
    "show_scatter(\"Wohnflaeche_qm\")"
   ],
   "execution_count":0,
   "outputs":[
    
   ],
   "metadata":{
    "datalore":{
     "type":"CODE",
     "hide_input_from_viewers":false,
     "hide_output_from_viewers":false,
     "node_id":"JvKJox6zGhbmAAquAKTsk2"
    }
   }
  },
  {
   "cell_type":"markdown",
   "source":[
    "Da sich die Wohnfläche unter anderem aus _EG_qm_ und _Keller_qm_ zusammensetzt, ist hier ein ähnlicher Zusammenhang zum Verkaufspreis zu erkennen. Je mehr Wohnfläche ein Haus bietet, desto teurer kann es verkauft werden. Die drei Ausreißer in der rechten unteren Ecke sind den Ausreißern in _EG_qm_ und _Keller_qm_ geschuldet. Entfernt man die beiden Ausreißer und einen neuen, sieht der Plot wie folgt aus:"
   ],
   "attachments":{
    
   },
   "metadata":{
    "datalore":{
     "type":"MD",
     "hide_input_from_viewers":false,
     "hide_output_from_viewers":false,
     "node_id":"XXL7TGFz4bMtayOEZtDYda"
    }
   }
  },
  {
   "cell_type":"code",
   "source":[
    "show_scatter(\"Wohnflaeche_qm\", [737, 216] + [543])"
   ],
   "execution_count":0,
   "outputs":[
    
   ],
   "metadata":{
    "datalore":{
     "type":"CODE",
     "hide_input_from_viewers":false,
     "hide_output_from_viewers":false,
     "node_id":"iLWU6qoxEIpUmodHx5yEtK"
    }
   }
  },
  {
   "cell_type":"code",
   "source":[
    "show_scatter(\"Grundstueck_qm\")"
   ],
   "execution_count":0,
   "outputs":[
    
   ],
   "metadata":{
    "datalore":{
     "type":"CODE",
     "hide_input_from_viewers":false,
     "hide_output_from_viewers":false,
     "node_id":"JsZzUzXMMgXkNAtoxX4Bo6"
    }
   }
  },
  {
   "cell_type":"markdown",
   "source":[
    "Auch hier stechen die Ausreißer bei 16 000 m² Grundstück ins Auge. Allerdings gibt es viele große Grundstücke mit einem vergleichsweise niedrigen Verkaufspreis. Ohne Ausreißer wirkt der Zusammenhang zwischen Preis und Grundfläche stärker, allerdings gibt es noch sehr viele große Grundstücke mit einem vergleichsweise niedrigen Preis:"
   ],
   "attachments":{
    
   },
   "metadata":{
    "datalore":{
     "type":"MD",
     "hide_input_from_viewers":false,
     "hide_output_from_viewers":false,
     "node_id":"nNHhSgRDTfDXe0EnfiTvG0"
    }
   }
  },
  {
   "cell_type":"code",
   "source":[
    "show_scatter(\"Grundstueck_qm\", [757, 536])"
   ],
   "execution_count":0,
   "outputs":[
    
   ],
   "metadata":{
    "datalore":{
     "type":"CODE",
     "hide_input_from_viewers":false,
     "hide_output_from_viewers":false,
     "node_id":"5Jc3lZWCoZUiJ3MyoMnqQO"
    }
   }
  },
  {
   "cell_type":"code",
   "source":[
    "columns_for_boxplot =  list(set(train_data_without_objects.columns) - {\"Baujahr\", \"EG_qm\", \"Grundstueck_qm\", \"Keller_qm\", \"Umgebaut\",\"Wohnflaeche_qm\",\"Z_Verkaufspreis\"})\n",
    "columns_for_boxplot"
   ],
   "execution_count":0,
   "outputs":[
    
   ],
   "metadata":{
    "datalore":{
     "type":"CODE",
     "hide_input_from_viewers":false,
     "hide_output_from_viewers":false,
     "node_id":"s79uEDxK7fJXyEoyNuioL7"
    }
   }
  },
  {
   "cell_type":"markdown",
   "source":[
    "### Kellerqualität vs. Verkaufspreis"
   ],
   "attachments":{
    
   },
   "metadata":{
    "datalore":{
     "type":"MD",
     "hide_input_from_viewers":false,
     "hide_output_from_viewers":false,
     "node_id":"bolNSfy9ypLLWzfVevbCCq"
    }
   }
  },
  {
   "cell_type":"code",
   "source":[
    "_, axes = plt.subplots(figsize=(20, 10))\n",
    "axes.set_title(\"Einfluss der Kellerqualität auf den Verkaufspreis\")\n",
    "ax = sns.boxplot(x=\"KellerQual\", y=\"Z_Verkaufspreis\", data=train_data, color=\"blue\")\n",
    "ax.set(xlabel='Keller Qualität (1:Sehr Schlecht, 2:Schlecht, 3:Durchschnitt, 4:Gut, 5:Sehr Gut)', ylabel='Verkaufspreis in Euro')\n",
    "plt.show()"
   ],
   "execution_count":0,
   "outputs":[
    
   ],
   "metadata":{
    "datalore":{
     "type":"CODE",
     "hide_input_from_viewers":false,
     "hide_output_from_viewers":false,
     "node_id":"3h0sJvezF0zuaOVn6ps0kB"
    }
   }
  },
  {
   "cell_type":"markdown",
   "source":[
    "Es ist kein wesentlicher Zusammenhang der Kellerqualität und des Verkaufpreises ersichtlich."
   ],
   "attachments":{
    
   },
   "metadata":{
    "datalore":{
     "type":"MD",
     "hide_input_from_viewers":false,
     "hide_output_from_viewers":false,
     "node_id":"bTRNJKzXewjRRW0ZhpLqnN"
    }
   }
  },
  {
   "cell_type":"markdown",
   "source":[
    "### Verkaufsjahr vs. Verkaufspreis"
   ],
   "attachments":{
    
   },
   "metadata":{
    "datalore":{
     "type":"MD",
     "hide_input_from_viewers":false,
     "hide_output_from_viewers":false,
     "node_id":"ePu5Okdjx0f4XPw37Tuk1c"
    }
   }
  },
  {
   "cell_type":"code",
   "source":[
    "_, axes = plt.subplots(figsize=(20, 10))\n",
    "axes.set_title(\"Einfluss des Verkaufsjahres auf den Verkaufspreis\")\n",
    "ax = sns.boxplot(x=\"Verkaufsjahr\", y=\"Z_Verkaufspreis\", data=train_data, ax=axes, color=\"blue\")\n",
    "ax.set(xlabel='Verkaufsjahr', ylabel='Verkaufspreis in Euro')\n",
    "plt.show()"
   ],
   "execution_count":0,
   "outputs":[
    
   ],
   "metadata":{
    "datalore":{
     "type":"CODE",
     "hide_input_from_viewers":false,
     "hide_output_from_viewers":false,
     "node_id":"h9jiInepVz8xqW2IEVUPK6"
    }
   }
  },
  {
   "cell_type":"markdown",
   "source":[
    "Hier ist ein leichter Aufwärtstrend zu erkennen, Häuser die später verkauft wurden, wurden in der Regel etwas teurer verkauft. Dies hängt sehr wahrscheinlich mit allgemein steigenden Hauspreisen und\/oder der Inflation zusammen --> Rückfrage."
   ],
   "attachments":{
    
   },
   "metadata":{
    "datalore":{
     "type":"MD",
     "hide_input_from_viewers":false,
     "hide_output_from_viewers":false,
     "node_id":"elw5eyQukn7pmoRkxTQK1t"
    }
   }
  },
  {
   "cell_type":"markdown",
   "source":[
    "### Anzahl der Bäder im UG vs. Verkaufspreis"
   ],
   "attachments":{
    
   },
   "metadata":{
    "datalore":{
     "type":"MD",
     "hide_input_from_viewers":false,
     "hide_output_from_viewers":false,
     "node_id":"LrJvgYy8ZQ6we459Bglffc"
    }
   }
  },
  {
   "cell_type":"code",
   "source":[
    "_, axes = plt.subplots(figsize=(20, 10))\n",
    "axes.set_title(\"Einfluss des Anzahl von Bädern im UG auf den Verkaufspreis\")\n",
    "ax = sns.boxplot(x=\"BaederUG\", y=\"Z_Verkaufspreis\", data=train_data, ax=axes, color=\"blue\")\n",
    "ax.set(xlabel='Anzahl der Bäder im UG', ylabel='Verkaufspreis in Euro')\n",
    "plt.show()"
   ],
   "execution_count":0,
   "outputs":[
    
   ],
   "metadata":{
    "datalore":{
     "type":"CODE",
     "hide_input_from_viewers":false,
     "hide_output_from_viewers":false,
     "node_id":"0J9LicbjT9q8dvhJINZ1pc"
    }
   }
  },
  {
   "cell_type":"markdown",
   "source":[
    "### Anzahl Kamine vs. Hauspreis"
   ],
   "attachments":{
    
   },
   "metadata":{
    "datalore":{
     "type":"MD",
     "hide_input_from_viewers":false,
     "hide_output_from_viewers":false,
     "node_id":"N4If9QnxOFX2GDHi8N9AjG"
    }
   }
  },
  {
   "cell_type":"code",
   "source":[
    "_, axes = plt.subplots(figsize=(20, 10))\n",
    "axes.set_title(\"Einfluss der Anzahl an Kaminen auf den Verkaufspreis\")\n",
    "ax = sns.boxplot(x=\"Kamine\", y=\"Z_Verkaufspreis\", data=train_data, ax=axes, color=\"blue\")\n",
    "ax.set(xlabel='Anzahl der Kamine', ylabel='Verkaufspreis in Euro')\n",
    "plt.show()"
   ],
   "execution_count":0,
   "outputs":[
    
   ],
   "metadata":{
    "datalore":{
     "type":"CODE",
     "hide_input_from_viewers":false,
     "hide_output_from_viewers":false,
     "node_id":"QtMl2L8mZ43DuAKT7HsSJb"
    }
   }
  },
  {
   "cell_type":"markdown",
   "source":[
    "Bei der Anzahl an Kaminen ist ein sehr starken Zusammenhang mit dem Verkaufpreis zu erkennen, da ein Haus mit mehr Kaminen in der Regel auch ein größeres Haus ist. Dies ist im folgeden Plot zu erkennen. Bei der Kategorie 4 Kamine handelt es sich nur um einen Datensatz."
   ],
   "attachments":{
    
   },
   "metadata":{
    "datalore":{
     "type":"MD",
     "hide_input_from_viewers":false,
     "hide_output_from_viewers":false,
     "node_id":"rUfNwBaiTIZ4trfKPcxXdx"
    }
   }
  },
  {
   "cell_type":"code",
   "source":[
    "_, axes = plt.subplots(figsize=(20, 10))\n",
    "axes.set_title(\"Zusammenhang der Anzahl an Kaminen und der Größe des Erdgeschosses\")\n",
    "ax = sns.violinplot(x=\"Kamine\", y=\"EG_qm\", data=train_data, ax=axes, color=\"blue\")\n",
    "ax.set(xlabel='Anzahl der Kamine', ylabel='Größe des Erdgeschosses in qm')\n",
    "plt.show()"
   ],
   "execution_count":0,
   "outputs":[
    
   ],
   "metadata":{
    "datalore":{
     "type":"CODE",
     "hide_input_from_viewers":false,
     "hide_output_from_viewers":false,
     "node_id":"cwn4NleAnY4rQtaddq8FmZ"
    }
   }
  },
  {
   "cell_type":"markdown",
   "source":[
    "### Einfluss der Anzahl an Bädern auf den Verkaufspreis"
   ],
   "attachments":{
    
   },
   "metadata":{
    "datalore":{
     "type":"MD",
     "hide_input_from_viewers":false,
     "hide_output_from_viewers":false,
     "node_id":"NcKymtD3NrDtaFYIwR4YUg"
    }
   }
  },
  {
   "cell_type":"code",
   "source":[
    "_, axes = plt.subplots(figsize=(20, 10))\n",
    "axes.set_title(\"Einfluss der Anzahl an Bädern auf den Verkaufspreis\")\n",
    "ax = sns.boxplot(x=\"Baeder\", y=\"Z_Verkaufspreis\", data=train_data, ax=axes, color=\"blue\")\n",
    "ax.set(xlabel='Anzahl der Bäder', ylabel='Verkaufspreis in Euro')\n",
    "plt.show()"
   ],
   "execution_count":0,
   "outputs":[
    
   ],
   "metadata":{
    "datalore":{
     "type":"CODE",
     "hide_input_from_viewers":false,
     "hide_output_from_viewers":false,
     "node_id":"JTO4u4aspW7QFuKasg0mRT"
    }
   }
  },
  {
   "cell_type":"markdown",
   "source":[
    "Hier ist zu beachten, dass null Bäder nur 10 Datensätze haben, wobei es sich um Fehler handeln könnte, da Häuser typischerweise ein Bad haben. Ebenfalls haben nur vier Datensätze vier Bäder, was auch nicht sehr aussagekräftig ist. Bei den Anzahlen eins bis drei Bädern ist jedoch ein starker Anstieg des Verkaufspreises mit der Anzahl an Bädern zu erkennen."
   ],
   "attachments":{
    
   },
   "metadata":{
    "datalore":{
     "type":"MD",
     "hide_input_from_viewers":false,
     "hide_output_from_viewers":false,
     "node_id":"vSlkeSvB6geEMO1dxjt4qs"
    }
   }
  },
  {
   "cell_type":"markdown",
   "source":[
    "### Einfluss der Anzahl an Garagen auf den Verkaufspreis"
   ],
   "attachments":{
    
   },
   "metadata":{
    "datalore":{
     "type":"MD",
     "hide_input_from_viewers":false,
     "hide_output_from_viewers":false,
     "node_id":"tLNql0YodhgZ2dzeyTW02c"
    }
   }
  },
  {
   "cell_type":"code",
   "source":[
    "_, axes = plt.subplots(figsize=(20, 10))\n",
    "axes.set_title(\"Einfluss der Anzahl an Garagen auf den Verkaufspreis\")\n",
    "ax = sns.violinplot(x=\"Garagen\", y=\"Z_Verkaufspreis\", data=train_data, ax=axes, color=\"blue\")\n",
    "ax.set(xlabel='Anzahl der Garagen', ylabel='Verkaufspreis in Euro')\n",
    "plt.show()"
   ],
   "execution_count":0,
   "outputs":[
    
   ],
   "metadata":{
    "datalore":{
     "type":"CODE",
     "hide_input_from_viewers":false,
     "hide_output_from_viewers":false,
     "node_id":"FASIYWxJsLC45d1qFrJm3v"
    }
   }
  },
  {
   "cell_type":"markdown",
   "source":[
    "Hier ist zu erkennen, dass ein Haus mit einer Garage nur eine geringe Wertsteigerung im Vergleich zu einem Haus mit keiner Garage erfährt. Jedoch ist ein Haus mit zwei Garagen im Median ca. 50k mehr Wert als ein Haus mit einer Garage. Ein Haus mit drei Garagen ist im Median sogar 100k mehr Wert als ein Haus mit zwei Garagen. Für vier Garagen gibt es nur 13 Datensätze, was wenig aussagekräftig ist."
   ],
   "attachments":{
    
   },
   "metadata":{
    "datalore":{
     "type":"MD",
     "hide_input_from_viewers":false,
     "hide_output_from_viewers":false,
     "node_id":"eCcq46JLW7DGLrtlcqFGWW"
    }
   }
  },
  {
   "cell_type":"markdown",
   "source":[
    "### Einfluss des Gesamteindrucks auf den Verkaufspreis"
   ],
   "attachments":{
    
   },
   "metadata":{
    "datalore":{
     "type":"MD",
     "hide_input_from_viewers":false,
     "hide_output_from_viewers":false,
     "node_id":"qDEGxwAOhn3SMJfLRaPSM4"
    }
   }
  },
  {
   "cell_type":"code",
   "source":[
    "_, axes = plt.subplots(figsize=(20, 10))\n",
    "axes.set_title(\"Einfluss der Gesamteindrucks auf den Verkaufspreis\")\n",
    "ax = sns.boxplot(x=\"Gesamteindruck\", y=\"Z_Verkaufspreis\", data=train_data, ax=axes, color=\"blue\")\n",
    "ax.set(xlabel='Gesamteindruck (1:geringster, 5:bester)', ylabel='Verkaufspreis in Euro')\n",
    "plt.show()"
   ],
   "execution_count":0,
   "outputs":[
    
   ],
   "metadata":{
    "datalore":{
     "type":"CODE",
     "hide_input_from_viewers":false,
     "hide_output_from_viewers":false,
     "node_id":"9eAkwkVWLp5YvgiwMXWfHd"
    }
   }
  },
  {
   "cell_type":"markdown",
   "source":[
    "Hier ist zu beobachten, dass der Preis im Median umso höher ist, je höher der Gesamteindruck ist. Gleichzeitig ist aber auch die Preisspanne noch oben deutlich höher (Oberes Quartil und Whisker), bei einem sehr guten Gesamteindruck. Dies ist vor allem herrausstechend für den Gesamteindruck 4. Jedoch erhöht sich die untere Preisspanne (unteres Quartil) nicht so stark mit steigendem Gesamteindruck. Es könnte der Fall sein, dass der Gesamteindruck den möglichen Verhandlungspreis in die Höhe treibt, dieser wird aber nicht immer voll ausgereizt.\n",
    "\n",
    "Ausreiser\/Extreme:\n",
    "    * Bei Gesamteindruck 0: Gibt es nur drei Messwerte, der Wert null ist jedoch nicht in der Skala definiert\n",
    "    * Bei Gesamteindruck 5: n = 2, sehr geringe Sample size"
   ],
   "attachments":{
    
   },
   "metadata":{
    "datalore":{
     "type":"MD",
     "hide_input_from_viewers":false,
     "hide_output_from_viewers":false,
     "node_id":"7W1ELr3SfDtddd84nMUrJy"
    }
   }
  },
  {
   "cell_type":"markdown",
   "source":[
    "### Einfluss des Verkaufsmonat auf den Verkaufspreis"
   ],
   "attachments":{
    
   },
   "metadata":{
    "datalore":{
     "type":"MD",
     "hide_input_from_viewers":false,
     "hide_output_from_viewers":false,
     "node_id":"2bAsPeoAiNo9V1g1cFf3ru"
    }
   }
  },
  {
   "cell_type":"code",
   "source":[
    "_, axes = plt.subplots(figsize=(20, 10))\n",
    "axes.set_title(\"Einfluss des Verkaufsmonats auf den Verkaufspreis\")\n",
    "ax = sns.boxplot(x=\"Verkaufsmonat\", y=\"Z_Verkaufspreis\", data=train_data, ax=axes, color=\"blue\")\n",
    "ax.set(xlabel='Verkaufsmonat', ylabel='Verkaufspreis in Euro')\n",
    "plt.show()"
   ],
   "execution_count":0,
   "outputs":[
    
   ],
   "metadata":{
    "datalore":{
     "type":"CODE",
     "hide_input_from_viewers":false,
     "hide_output_from_viewers":false,
     "node_id":"tuBuFepstoiylFFMuNldrZ"
    }
   }
  },
  {
   "cell_type":"markdown",
   "source":[
    "Kein signifikanter Zusammenhang zwischen Verkaufsmonat und Verkaufspreis, jedoch wird ersichtlich, dass im Median Häuser am teuersten im Januar verkauft werden. Außerdem gibt es in den Sommermonaten Mai bis Juli die meisten Ausreiser, wovon man ausgehen kann, dass in diesen Monaten eher sehr hochpreisige Häuser verkauft werden."
   ],
   "attachments":{
    
   },
   "metadata":{
    "datalore":{
     "type":"MD",
     "hide_input_from_viewers":false,
     "hide_output_from_viewers":false,
     "node_id":"v1K2y2dKEGtyy4Ii8aWr4x"
    }
   }
  },
  {
   "cell_type":"markdown",
   "source":[
    "### Zusammenhang der Zimmeranzahl mit dem Verkaufspreis"
   ],
   "attachments":{
    
   },
   "metadata":{
    "datalore":{
     "type":"MD",
     "hide_input_from_viewers":false,
     "hide_output_from_viewers":false,
     "node_id":"mPROiFYjhlsQLuMZ7605jd"
    }
   }
  },
  {
   "cell_type":"code",
   "source":[
    "_, axes = plt.subplots(figsize=(20, 10))\n",
    "axes.set_title(\"Einfluss der ANzahl der Zimmer auf den Verkaufspreis\")\n",
    "ax = sns.boxplot(x=\"AnzahlZimmer\", y=\"Z_Verkaufspreis\", data=train_data, ax=axes, color=\"blue\")\n",
    "ax.set(xlabel='Anzahl der Zimmer', ylabel='Verkaufspreis in Euro')\n",
    "plt.show()"
   ],
   "execution_count":0,
   "outputs":[
    
   ],
   "metadata":{
    "datalore":{
     "type":"CODE",
     "hide_input_from_viewers":false,
     "hide_output_from_viewers":false,
     "node_id":"PVUiRQKx3Xp88lbT7mwdmA"
    }
   }
  },
  {
   "cell_type":"markdown",
   "source":[
    "Bei ursrünglicher Betrachtung scheint die Anzahl der Zimmer keinen wesentlichen linearen Zusammenhang mit dem Verkaufspreis zu haben.\n",
    "Dies hängt damit zusammen, dass AnzahlZimmer=0,5,6,8 weniger representativ sind, da sie nur n=6,32,16,1 Datensätze enthalten. Für die Datensätze mit einer representativen Anzahl n=2,3,4 gibt es einen geringen Anstieg des Median und des unteren Quartils.\n",
    "\n",
    "Ausreiser\/Extreme:\n",
    "* 0 Zimmer (Wie ist das möglich ?): n=6\n",
    "* 8 Zimmer: n=1"
   ],
   "attachments":{
    
   },
   "metadata":{
    "datalore":{
     "type":"MD",
     "hide_input_from_viewers":false,
     "hide_output_from_viewers":false,
     "node_id":"cn0ZDQ8acBJlaQNlvnNsgz"
    }
   }
  },
  {
   "cell_type":"markdown",
   "source":[
    "### Zusammenhang Toiletten mit dem Verkaufspreis\n",
    "\n",
    "Neues Feature: Toiletten = ToilettenEG + ToilettenUG"
   ],
   "attachments":{
    
   },
   "metadata":{
    "datalore":{
     "type":"MD",
     "hide_input_from_viewers":false,
     "hide_output_from_viewers":false,
     "node_id":"1DugNXYnWuDixk2FOTn9Yd"
    }
   }
  },
  {
   "cell_type":"code",
   "source":[
    "# Korrelation von Verkaufspreis mit ToilettenEg\/ ToilettenUG\n",
    "eg_corr = train_data[\"ToilettenEG\"].corr(train_data[\"Z_Verkaufspreis\"])\n",
    "ug_corr = train_data[\"ToilettenUG\"].corr(train_data[\"Z_Verkaufspreis\"])\n",
    "print(f\"Correlation with Z_Verkaufspreis:\\n  - ToilettenEG:  {np.round(eg_corr,3)}\\n  - ToilettenUG: {np.round(ug_corr,3)}\")"
   ],
   "execution_count":0,
   "outputs":[
    
   ],
   "metadata":{
    "datalore":{
     "type":"CODE",
     "hide_input_from_viewers":false,
     "hide_output_from_viewers":false,
     "node_id":"NQesqwEks5sXgPh9qpfT9p"
    }
   }
  },
  {
   "cell_type":"code",
   "source":[
    "train_data[\"Toiletten\"] = train_data[\"ToilettenEG\"] + train_data[\"ToilettenUG\"]"
   ],
   "execution_count":0,
   "outputs":[
    
   ],
   "metadata":{
    "datalore":{
     "type":"CODE",
     "hide_input_from_viewers":false,
     "hide_output_from_viewers":false,
     "node_id":"0PpHkUXw6s5oesHWyG3vmt"
    }
   }
  },
  {
   "cell_type":"code",
   "source":[
    "# New Correlation\n",
    "print(f\"New Corr: -Toiletten, VErkaufspreis: {train_data['Toiletten'].corr(train_data['Z_Verkaufspreis'])}\")"
   ],
   "execution_count":0,
   "outputs":[
    
   ],
   "metadata":{
    "datalore":{
     "type":"CODE",
     "hide_input_from_viewers":false,
     "hide_output_from_viewers":false,
     "node_id":"6V9bGI8M55zalnIC6X7Fk5"
    }
   }
  },
  {
   "cell_type":"markdown",
   "source":[
    "Kombination der Features ToilettenEG und ToilettenUG bringt keine große Verbesserung für die Korrelation mit dem Verkaufspreis"
   ],
   "attachments":{
    
   },
   "metadata":{
    "datalore":{
     "type":"MD",
     "hide_input_from_viewers":false,
     "hide_output_from_viewers":false,
     "node_id":"R20nA8vuJnNjINwr95lCYE"
    }
   }
  },
  {
   "cell_type":"code",
   "source":[
    "_, axes = plt.subplots(figsize=(20, 10))\n",
    "axes.set_title(\"Einfluss der Anzahl an Toiletten im EG auf den Verkaufspreis\")\n",
    "ax = sns.boxplot(x=\"ToilettenEG\", y=\"Z_Verkaufspreis\", data=train_data, ax=axes, color=\"blue\")\n",
    "ax.set(xlabel='Anzahl Toiletten im EG', ylabel='Verkaufspreis in Euro')\n",
    "plt.show()"
   ],
   "execution_count":0,
   "outputs":[
    
   ],
   "metadata":{
    "datalore":{
     "type":"CODE",
     "hide_input_from_viewers":false,
     "hide_output_from_viewers":false,
     "node_id":"dr3bnHO7PHKBed5H4LOgyL"
    }
   }
  },
  {
   "cell_type":"markdown",
   "source":[
    "Anzahl Datensätze mit zwei Toiletten im EG: 17\n",
    "Es ist ein leichter Ansteig des Verkaufspreises anhand der Anzahl an Toiletten im EG zu erkennen."
   ],
   "attachments":{
    
   },
   "metadata":{
    "datalore":{
     "type":"MD",
     "hide_input_from_viewers":false,
     "hide_output_from_viewers":false,
     "node_id":"GfKWOvViLEVl1goDbZf2aH"
    }
   }
  },
  {
   "cell_type":"markdown",
   "source":[
    
   ],
   "attachments":{
    
   },
   "metadata":{
    "datalore":{
     "type":"MD",
     "hide_input_from_viewers":false,
     "hide_output_from_viewers":false,
     "node_id":"68NPJWVfXsSCyrOobuT33j"
    }
   }
  },
  {
   "cell_type":"markdown",
   "source":[
    "Ausreiser:\n",
    "* 0 --> nur 3 Datensätze\n",
    "* 5 --> nur 2 Datensätze\n",
    "\n",
    "Insgesamt deutlich höhere Preise (Nach Median) + Preisspanne nach oben für einen höhere Gesamteidruck"
   ],
   "attachments":{
    
   },
   "metadata":{
    "datalore":{
     "type":"MD",
     "hide_input_from_viewers":false,
     "hide_output_from_viewers":false,
     "node_id":"VwMPOEaW8A8ODMIdSUwnZ4"
    }
   }
  },
  {
   "cell_type":"markdown",
   "source":[
    "### Korrelation der einzelnen Attribute\n",
    "\n",
    "TODO: Hier noch korrelationen unabhängig von Preis darstellen.\n",
    "\n",
    "Preisspanne nach oben deutlich höher"
   ],
   "attachments":{
    
   },
   "metadata":{
    "datalore":{
     "type":"MD",
     "hide_input_from_viewers":false,
     "hide_output_from_viewers":false,
     "node_id":"TQUVG9Ebt4aFZEgz65PrWm"
    }
   }
  },
  {
   "cell_type":"markdown",
   "source":[
    "### Zusammenfassung der Erkenntnisse\n",
    "\n",
    "#### Rückfragen für Fachexperte (z.B. Immobilienmakler):\n",
    "\n",
    "* Warum werden im Sommer mehr Häuser verkauft\n",
    "* Wie lange dauert es durchschnittlich, bis Haus renoviert wird ?\n",
    "* Wie ist das Durchschnittliche Einkommen in den Stadtteilen ?"
   ],
   "attachments":{
    
   },
   "metadata":{
    "datalore":{
     "type":"MD",
     "hide_input_from_viewers":false,
     "hide_output_from_viewers":false,
     "node_id":"fKNMLw5n9ih0XYb8VGIMPd"
    }
   }
  },
  {
   "cell_type":"markdown",
   "source":[
    "## 3. Data Preparation\n",
    "\n",
    "**Aufgabenstellung**: _Bereinigen Sie die Daten und führen Sie ein sinnvolles Feature Engineering durch. Hinweis: Das kann auch für Punkt 2 bereits relevant sein (führen Sie das dann hier dann nochmals zusammenfassend auf)._"
   ],
   "attachments":{
    
   },
   "metadata":{
    "datalore":{
     "type":"MD",
     "hide_input_from_viewers":false,
     "hide_output_from_viewers":false,
     "node_id":"biJAuSD2UhVQ4maVs2XNjY"
    }
   }
  },
  {
   "cell_type":"markdown",
   "source":[
    "Die folgenden Spalten beötigen definitiv bearbeitung, sie sollten Numerisch gesetzt\/ Codiert werden"
   ],
   "attachments":{
    
   },
   "metadata":{
    "datalore":{
     "type":"MD",
     "hide_input_from_viewers":false,
     "hide_output_from_viewers":false,
     "node_id":"mM2jHfoHLSzEa9mPx4Zm5Z"
    }
   }
  },
  {
   "cell_type":"code",
   "source":[
    "object_columns"
   ],
   "execution_count":0,
   "outputs":[
    
   ],
   "metadata":{
    "datalore":{
     "type":"CODE",
     "hide_input_from_viewers":false,
     "hide_output_from_viewers":false,
     "node_id":"qDE6sgDycg51zyjORwcNfL"
    }
   }
  },
  {
   "cell_type":"markdown",
   "source":[
    "#### Ausbaustufe: Label Encoding"
   ],
   "attachments":{
    
   },
   "metadata":{
    "datalore":{
     "type":"MD",
     "hide_input_from_viewers":false,
     "hide_output_from_viewers":false,
     "node_id":"rMDP30jEfDbQeWB2c6Bv8g"
    }
   }
  },
  {
   "cell_type":"code",
   "source":[
    "train_data[\"Ausbaustufe\"].unique()"
   ],
   "execution_count":0,
   "outputs":[
    
   ],
   "metadata":{
    "datalore":{
     "type":"CODE",
     "hide_input_from_viewers":false,
     "hide_output_from_viewers":false,
     "node_id":"SFfbbe4YYfQKarTp7s06i9"
    }
   }
  },
  {
   "cell_type":"code",
   "source":[
    "# Ausbaustufe\n",
    "Ausbaustufe_mapping = {\"Sonstige\":0,\"1 Ebene\":1.0,\"1,5 Ebenen\":1.5,\"2 Ebenen\":2.0,\"2,5 Ebenen\":2.5}\n",
    "train_data[\"Ausbaustufe\"] = train_data[\"Ausbaustufe\"].replace(Ausbaustufe_mapping)"
   ],
   "execution_count":0,
   "outputs":[
    
   ],
   "metadata":{
    "datalore":{
     "type":"CODE",
     "hide_input_from_viewers":false,
     "hide_output_from_viewers":false,
     "node_id":"STOCtJ8TABnaPLOwBZ4nXJ"
    }
   }
  },
  {
   "cell_type":"markdown",
   "source":[
    "#### Bebauungsdichte"
   ],
   "attachments":{
    
   },
   "metadata":{
    "datalore":{
     "type":"MD",
     "hide_input_from_viewers":false,
     "hide_output_from_viewers":false,
     "node_id":"5REmEVpMmKKmVFVjnBWOWX"
    }
   }
  },
  {
   "cell_type":"code",
   "source":[
    "train_data[\"Bebauungsdichte\"].unique()"
   ],
   "execution_count":0,
   "outputs":[
    
   ],
   "metadata":{
    "datalore":{
     "type":"CODE",
     "hide_input_from_viewers":false,
     "hide_output_from_viewers":false,
     "node_id":"XpNUWEMQsak6zrMF9R7eLd"
    }
   }
  },
  {
   "cell_type":"markdown",
   "source":[
    "Besonders interessant ist hier die Seelage, diese gehört nicht in die Kategorie \"Bebauungsdichte\", jedoch ist es sehr wahrscheinlich, dass ein Haus in Seelage mehr kostet, als ein Haus ohne Seelage.\n",
    "Die Seelage wird extrahiert, und es wird ein neues Feature für sie angelegt."
   ],
   "attachments":{
    
   },
   "metadata":{
    "datalore":{
     "type":"MD",
     "hide_input_from_viewers":false,
     "hide_output_from_viewers":false,
     "node_id":"OZh0Pw28HE7xNuQ54sNAL4"
    }
   }
  },
  {
   "cell_type":"code",
   "source":[
    "# neues Feature für Seelage: 1 wenn Seelage,0 sonst\n",
    "Seelage = pd.Series(np.where(train_data[\"Bebauungsdichte\"] == \"Seelage\", 1.0, 0.0))\n",
    "train_data[\"Seelage\"] = Seelage"
   ],
   "execution_count":0,
   "outputs":[
    
   ],
   "metadata":{
    "datalore":{
     "type":"CODE",
     "hide_input_from_viewers":false,
     "hide_output_from_viewers":false,
     "node_id":"VO2oOvslIHfgVzzCRh4DqA"
    }
   }
  },
  {
   "cell_type":"code",
   "source":[
    "# ersetzte Seelage als unbekannt, Label Encoding\n",
    "Bebauungsdichte_mapping = {\"Seelage\":0.0,\"Unbekannt\":0.0,\"Niedrig\":1.0,\"Mittel\":2.0,\"Hoch\":3.0}\n",
    "train_data[\"Bebauungsdichte\"] = train_data[\"Bebauungsdichte\"].replace(Bebauungsdichte_mapping)"
   ],
   "execution_count":0,
   "outputs":[
    
   ],
   "metadata":{
    "datalore":{
     "type":"CODE",
     "hide_input_from_viewers":false,
     "hide_output_from_viewers":false,
     "node_id":"VR9F9dwUOcq6hXld1Cfq1D"
    }
   }
  },
  {
   "cell_type":"markdown",
   "source":[
    "#### Besonderheiten"
   ],
   "attachments":{
    
   },
   "metadata":{
    "datalore":{
     "type":"MD",
     "hide_input_from_viewers":false,
     "hide_output_from_viewers":false,
     "node_id":"kwhaqzZ5rYHpuXl1eGh0Uw"
    }
   }
  },
  {
   "cell_type":"code",
   "source":[
    "train_data[\"Besonderheiten\"].unique()"
   ],
   "execution_count":0,
   "outputs":[
    
   ],
   "metadata":{
    "datalore":{
     "type":"CODE",
     "hide_input_from_viewers":false,
     "hide_output_from_viewers":false,
     "node_id":"pt9ISgJOery1sHjmNtjHQ9"
    }
   }
  },
  {
   "cell_type":"markdown",
   "source":[
    "Hier können ebenfalls mittels Hot One Encoding zwei Features generiert werden, so sind NaN werte auch nicht wichtig"
   ],
   "attachments":{
    
   },
   "metadata":{
    "datalore":{
     "type":"MD",
     "hide_input_from_viewers":false,
     "hide_output_from_viewers":false,
     "node_id":"4Elyhg4Fzs77CeIPY3x5Hz"
    }
   }
  },
  {
   "cell_type":"code",
   "source":[
    "# neues Feature für Neuverkauf: 1 wenn Neuverkauf,0 sonst\n",
    "Neuverkauf = pd.Series(np.where(train_data[\"Besonderheiten\"] == \"Neuverkauf\", 1.0, 0.0))\n",
    "train_data[\"Neuverkauf\"] = Neuverkauf\n",
    "\n",
    "# neues Feature für Wasseranschluss: 1 wenn Wasseranschluss, 0 sonst\n",
    "Wasseranschluss = pd.Series(np.where(train_data[\"Besonderheiten\"] == \"kein Wasseranschluss\", 0.0, 1.0))\n",
    "train_data[\"Wasseranschluss\"] = Wasseranschluss\n",
    "\n",
    "# Besonderheiten Spalte löschen\n",
    "train_data = train_data.drop(columns=[\"Besonderheiten\"])"
   ],
   "execution_count":0,
   "outputs":[
    
   ],
   "metadata":{
    "datalore":{
     "type":"CODE",
     "hide_input_from_viewers":false,
     "hide_output_from_viewers":false,
     "node_id":"MEaOPvQMBk6GFJ1HzlSIye"
    }
   }
  },
  {
   "cell_type":"markdown",
   "source":[
    "#### Dachtyp\n",
    "klassisches labelencoding"
   ],
   "attachments":{
    
   },
   "metadata":{
    "datalore":{
     "type":"MD",
     "hide_input_from_viewers":false,
     "hide_output_from_viewers":false,
     "node_id":"QXgWudHN9m4UWn7tUvRh1P"
    }
   }
  },
  {
   "cell_type":"code",
   "source":[
    "train_data[\"Dachtyp\"].unique()"
   ],
   "execution_count":0,
   "outputs":[
    
   ],
   "metadata":{
    "datalore":{
     "type":"CODE",
     "hide_input_from_viewers":false,
     "hide_output_from_viewers":false,
     "node_id":"kWWI7qoKucPv3NpP4bsybG"
    }
   }
  },
  {
   "cell_type":"code",
   "source":[
    "from sklearn import preprocessing"
   ],
   "execution_count":0,
   "outputs":[
    
   ],
   "metadata":{
    "datalore":{
     "type":"CODE",
     "hide_input_from_viewers":false,
     "hide_output_from_viewers":false,
     "node_id":"q8BiV2R6cXFTjE685yNXal"
    }
   }
  },
  {
   "cell_type":"code",
   "source":[
    "dachtyp_encoder = preprocessing.LabelEncoder()\n",
    "_= dachtyp_encoder.fit(train_data[\"Dachtyp\"])\n",
    "train_data[\"Dachtyp\"] = dachtyp_encoder.transform(train_data[\"Dachtyp\"])"
   ],
   "execution_count":0,
   "outputs":[
    
   ],
   "metadata":{
    "datalore":{
     "type":"CODE",
     "hide_input_from_viewers":false,
     "hide_output_from_viewers":false,
     "node_id":"uF76JVfZB3ex0f4DIpHUs2"
    }
   }
  },
  {
   "cell_type":"markdown",
   "source":[
    "**Fassadenqual**: Label Encoding,  Einteilung : Annahme: sehr gut gleich weit von sehr schlecht, durschnitt bei 0, z.B. [Schlecht, Durch, Gut, Sehr gut] = [-2, 0, 1, 2]\n",
    "* **Fassadenzustand**: Wie oben, aber direkte Abbildung ['Sehr Schlecht' 'Schlecht' 'Durchschnitt' 'Gut' 'Sehr gut' ] = [-2, -1, 0, 1, 2]\n",
    "* **Kellerhoehe**: Label Encoding: ['Sehr Schlecht' 'Schlecht' 'Durchschnitt' 'Gut' 'Sehr gut' ] = [-2, -1, 0, 1, 2] ---> NAN ?\n",
    "* **Lage**: Label Encoding ?"
   ],
   "attachments":{
    
   },
   "metadata":{
    "datalore":{
     "type":"MD",
     "hide_input_from_viewers":false,
     "hide_output_from_viewers":false,
     "node_id":"79oSQHp3AKg7IwL1dIAPS2"
    }
   }
  },
  {
   "cell_type":"markdown",
   "source":[
    "#### Fassadenqual\n",
    "--> LAbelencoding"
   ],
   "attachments":{
    
   },
   "metadata":{
    "datalore":{
     "type":"MD",
     "hide_input_from_viewers":false,
     "hide_output_from_viewers":false,
     "node_id":"3Tvi5CpB1jQ1hdQOvmPnDA"
    }
   }
  },
  {
   "cell_type":"code",
   "source":[
    "train_data[\"Fassadenqual\"].unique()"
   ],
   "execution_count":0,
   "outputs":[
    
   ],
   "metadata":{
    "datalore":{
     "type":"CODE",
     "hide_input_from_viewers":false,
     "hide_output_from_viewers":false,
     "node_id":"MDMJKczhH2oLwiDHDSljdz"
    }
   }
  },
  {
   "cell_type":"code",
   "source":[
    "sehr_schlect_sehr_gut_mapping = {\"Sehr Schlecht\":-2.0,\"Schlecht\":-1.0,\"Durchschnitt\":0.0,\"Gut\":1.0,\"Sehr gut\":2.0}\n",
    "train_data[\"Fassadenqual\"] = train_data[\"Fassadenqual\"].replace(sehr_schlect_sehr_gut_mapping)"
   ],
   "execution_count":0,
   "outputs":[
    
   ],
   "metadata":{
    "datalore":{
     "type":"CODE",
     "hide_input_from_viewers":false,
     "hide_output_from_viewers":false,
     "node_id":"RrmDnlwVO2YIXUaMkuRN6p"
    }
   }
  },
  {
   "cell_type":"markdown",
   "source":[
    "#### Fasadenzustand\n",
    "--> Labelencoding"
   ],
   "attachments":{
    
   },
   "metadata":{
    "datalore":{
     "type":"MD",
     "hide_input_from_viewers":false,
     "hide_output_from_viewers":false,
     "node_id":"ccT5mQ8FO2ClEgxJTmfiZH"
    }
   }
  },
  {
   "cell_type":"code",
   "source":[
    "train_data[\"Fassadenzustand\"].unique()"
   ],
   "execution_count":0,
   "outputs":[
    
   ],
   "metadata":{
    "datalore":{
     "type":"CODE",
     "hide_input_from_viewers":false,
     "hide_output_from_viewers":false,
     "node_id":"ui1GprzZvfHJL4Qy5Dda7p"
    }
   }
  },
  {
   "cell_type":"code",
   "source":[
    "train_data[\"Fassadenzustand\"] = train_data[\"Fassadenzustand\"].replace(sehr_schlect_sehr_gut_mapping)"
   ],
   "execution_count":0,
   "outputs":[
    
   ],
   "metadata":{
    "datalore":{
     "type":"CODE",
     "hide_input_from_viewers":false,
     "hide_output_from_viewers":false,
     "node_id":"Yt8yo31ST5sySODl3EsF1O"
    }
   }
  },
  {
   "cell_type":"markdown",
   "source":[
    "#### Kellerhoehe\n",
    "--> Labelencoding"
   ],
   "attachments":{
    
   },
   "metadata":{
    "datalore":{
     "type":"MD",
     "hide_input_from_viewers":false,
     "hide_output_from_viewers":false,
     "node_id":"JrQNlfvqyUifvnDRrs0whc"
    }
   }
  },
  {
   "cell_type":"code",
   "source":[
    "train_data[\"Kellerhoehe\"].unique()"
   ],
   "execution_count":0,
   "outputs":[
    
   ],
   "metadata":{
    "datalore":{
     "type":"CODE",
     "hide_input_from_viewers":false,
     "hide_output_from_viewers":false,
     "node_id":"9AVRTb8p20RVRXaN3OXpFm"
    }
   }
  },
  {
   "cell_type":"code",
   "source":[
    "train_data[\"Kellerhoehe\"] = train_data[\"Kellerhoehe\"].replace(sehr_schlect_sehr_gut_mapping)"
   ],
   "execution_count":0,
   "outputs":[
    
   ],
   "metadata":{
    "datalore":{
     "type":"CODE",
     "hide_input_from_viewers":false,
     "hide_output_from_viewers":false,
     "node_id":"r0wAWT0DzzCw2zgjCfI2xl"
    }
   }
  },
  {
   "cell_type":"markdown",
   "source":[
    "#### Lage\n",
    "--> Label encoding"
   ],
   "attachments":{
    
   },
   "metadata":{
    "datalore":{
     "type":"MD",
     "hide_input_from_viewers":false,
     "hide_output_from_viewers":false,
     "node_id":"extaoemh7gK4gX8Wtt8dHI"
    }
   }
  },
  {
   "cell_type":"code",
   "source":[
    "# auffüllen von Nullwerten mit \"unbekannt\"\n",
    "train_data[\"Lage\"] = train_data[\"Lage\"].fillna(value=\"Unbekannt\")\n",
    "\n",
    "Lage_encoder = preprocessing.LabelEncoder()\n",
    "_= Lage_encoder.fit(train_data[\"Lage\"])\n",
    "train_data[\"Lage\"] = Lage_encoder.transform(train_data[\"Lage\"])"
   ],
   "execution_count":0,
   "outputs":[
    
   ],
   "metadata":{
    "datalore":{
     "type":"CODE",
     "hide_input_from_viewers":false,
     "hide_output_from_viewers":false,
     "node_id":"42zeeppksBcvs82Cd7JoiZ"
    }
   }
  },
  {
   "cell_type":"markdown",
   "source":[
    "#### Typ"
   ],
   "attachments":{
    
   },
   "metadata":{
    "datalore":{
     "type":"MD",
     "hide_input_from_viewers":false,
     "hide_output_from_viewers":false,
     "node_id":"Z6xKvLP2CuMSzzXhbTry8L"
    }
   }
  },
  {
   "cell_type":"code",
   "source":[
    "# auffüllen von Nullwerten mit \"unbekannt\"\n",
    "train_data[\"Typ\"] = train_data[\"Typ\"].fillna(value=\"Unbekannt\")\n",
    "\n",
    "Typ_encoder = preprocessing.LabelEncoder()\n",
    "_= Typ_encoder.fit(train_data[\"Typ\"])\n",
    "train_data[\"Typ\"] = Typ_encoder.transform(train_data[\"Typ\"])"
   ],
   "execution_count":0,
   "outputs":[
    
   ],
   "metadata":{
    "datalore":{
     "type":"CODE",
     "hide_input_from_viewers":false,
     "hide_output_from_viewers":false,
     "node_id":"hSluRj6iY6gxoqyj29dKbB"
    }
   }
  },
  {
   "cell_type":"code",
   "source":[
    "plt.figure(figsize=(22, 15))\n",
    "# define the mask to set the values in the upper triangle to True\n",
    "mask = np.triu(np.ones_like(train_data.corr(), dtype=bool))\n",
    "heatmap = sns.heatmap(train_data.corr(), mask=mask, vmin=-1, vmax=1, annot=True)\n",
    "heatmap.set_title('Triangle Correlation Heatmap', fontdict={'fontsize':18}, pad=16);"
   ],
   "execution_count":0,
   "outputs":[
    
   ],
   "metadata":{
    "datalore":{
     "type":"CODE",
     "hide_input_from_viewers":false,
     "hide_output_from_viewers":false,
     "node_id":"yF8nJEWNaIBByc38dgoOmu"
    }
   }
  },
  {
   "cell_type":"markdown",
   "source":[
    "## 4. Modeling - Regression mit Interferenz\n",
    "\n",
    "**Aufgabenstellung**: _Führen Sie mit geeigneten Verfahren der Regression (Linear \/ Lasso \/ Ridge) eine Vorhersage des Preises (Z_Verkaufspreis) durch, der akzeptabel in der Evaluation abschneidet und Verständnis ermöglicht. Erklären Sie die identifizierten Zusammenhänge menschenverständlich als Text (mit nachvollziehbarer Anzahl der Merkmale)._"
   ],
   "attachments":{
    
   },
   "metadata":{
    "datalore":{
     "type":"MD",
     "hide_input_from_viewers":false,
     "hide_output_from_viewers":false,
     "node_id":"3flPLTmJ7gpSa8ay6ju004"
    }
   }
  },
  {
   "cell_type":"markdown",
   "source":[
    "## 5. Modeling - Best of Class\n",
    "\n",
    "**Aufgabenstellung**: _Vergleichen und optimieren Sie ggfs. ein oder mehrere andere Verfahren zur Vorhersage des Verkaufspreises (Z_Verkaufspreis). Gehen Sie vor wie in der Vorlesung gelehrt mit Trainings- und Validierungsdaten. Vergleichen und optimieren Sie. Interpretieren Sie das Ergebnis und den Einfluss der Dimensionen (falls möglich)._"
   ],
   "attachments":{
    
   },
   "metadata":{
    "datalore":{
     "type":"MD",
     "hide_input_from_viewers":false,
     "hide_output_from_viewers":false,
     "node_id":"lASNLec20aYi36adFNt767"
    }
   }
  },
  {
   "cell_type":"markdown",
   "source":[
    "## 6.Evaluation und Test\n",
    "\n",
    "**Aufgabenstellung**: _Schließen Sie die Aufgabe mit einer finalen Evaluation der Vorhersagequalität ab. Stellen Sie sicher, dass die Testdatei (data_for_testing_test.csv) ladbar ist und mit zurückgehaltenen Testdaten data_for_test.csv ersetzt werden kann, um einen Benchmark zu erstellen. Kommentieren Sie die Stelle mit dem Kommentar „#HIER DATEINAMEN ERSETZEN“. Geben Sie für die Testdaten aus: R2, MSE, RMSE, MAPE, MAX._"
   ],
   "attachments":{
    
   },
   "metadata":{
    "datalore":{
     "type":"MD",
     "hide_input_from_viewers":false,
     "hide_output_from_viewers":false,
     "node_id":"sWTdZNkQzOLsqDr4IN2WQx"
    }
   }
  },
  {
   "cell_type":"markdown",
   "source":[
    "## 7. Deployment\n",
    "\n",
    "**Aufgabenstellung**: _Erstellen Sie eine Anleitung oder Handreichung für den Immobilienverein aus Aufgabe 1 basierend auf allen Erkenntnissen. Sie können Markup und erklärende Visualisierungen innerhalb des .ipynb nutzen. Dies soll alle\n",
    "für den Verein wichtigen Erkenntnisse zusammenfassen (auch wenn dadurch Redundanz in der Abgabe entsteht) und maximal 2 Seiten im pdf-Ausdruck umfassen, welche komplett eigenständig lesbar sein sollen._"
   ],
   "attachments":{
    
   },
   "metadata":{
    "datalore":{
     "type":"MD",
     "hide_input_from_viewers":false,
     "hide_output_from_viewers":false,
     "node_id":"QIWKWValZgdUnDHlpBCkR3"
    }
   }
  },
  {
   "cell_type":"markdown",
   "source":[
    "## Add-On: Modeling - Klassifikation\n",
    "\n",
    "**Aufgabenstellung**: _Versuchen Sie eine Vorhersage der Kamine (ja \/ nein, alternativ: Anzahl der Kamine, Feld: Kamine). Evaluieren Sie die Vorhersage. Dieser Punkt fließt nicht in alle anderen Aufgabenteile ein._"
   ],
   "attachments":{
    
   },
   "metadata":{
    "datalore":{
     "type":"MD",
     "hide_input_from_viewers":false,
     "hide_output_from_viewers":false,
     "node_id":"19nD5cpkpq7HccLKrBnmRc"
    }
   }
  },
  {
   "cell_type":"markdown",
   "source":[
    "## Bewertungskriterien\n",
    "\n",
    "1. Fachliche Bewertung (50%): Korrektheit, Lösungsqualität und Eleganz sowie Klarheit und Umfang der Betrachtung, Umsetzung von Data Science wie in der Vorlesung gelehrt in einem Code-Prototyp, korrekte Verwendung von wichtigen Funktionen \/ Bibliotheken, Güte der Endlösung, Nutzung der erworbenen Kenntnisse aus der Vorlesung, Vollständigkeit der Lösung in Bezug auf die Aufgabenstellung\n",
    "2. Dokumentation (50%): Dokumentation des Vorgehens der Datenauswertung im Sinne von Data Science, Codekommentare wie in der Informatik üblich wo notwendig, Qualität der Diagramme, Markup, Texte, pdf"
   ],
   "attachments":{
    
   },
   "metadata":{
    "datalore":{
     "type":"MD",
     "hide_input_from_viewers":false,
     "hide_output_from_viewers":false,
     "node_id":"xitfOf8GuGPhTj8M7A9cyo"
    }
   }
  }
 ],
 "metadata":{
  "datalore":{
   "version":1,
   "computation_mode":"JUPYTER",
   "packages":[
    
   ]
  }
 },
 "nbformat":4,
 "nbformat_minor":4
}